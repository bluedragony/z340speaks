{
 "cells": [
  {
   "cell_type": "code",
   "execution_count": 2,
   "metadata": {},
   "outputs": [],
   "source": [
    "import numpy as np"
   ]
  },
  {
   "cell_type": "markdown",
   "metadata": {},
   "source": [
    "splitAndClean() - Function to return a splitted 136 character numpy array "
   ]
  },
  {
   "cell_type": "code",
   "execution_count": 35,
   "metadata": {},
   "outputs": [
    {
     "data": {
      "text/plain": [
       "array(['alicewasbeginningtogetverytiredofsittingbyhersisteronthebankandofhavingnothingtodoonceortwiceshehadpeepedintothebookhersisterwasreadingb',\n",
       "       'utithadnopicturesorconversationsinitandwhatistheuseofabookthoughtalicewithoutpicturesorconversationssoshewasconsideringinherownmindaswel',\n",
       "       'lasshecouldforthehotdaymadeherfeelverysleepyandstupidwhetherthepleasureofmakingadaisychainwouldbeworththetroubleofgettingupandpickingthe',\n",
       "       ...,\n",
       "       'dupandfoundshewasinherstockingfeetforthesilvershoeshadfallenoffinherflightthroughtheairandwerelostforeverinthedesertauntemhadjustcomeout',\n",
       "       'ofthehousetowaterthecabbageswhenshelookedupandsawdorothyrunningtowardhermydarlingchildshecriedfoldingthelittlegirlinherarmsandcoveringhe',\n",
       "       'rfacewithkisseswhereintheworlddidyoucomefromfromthelandofozsaiddorothygravelyandhereistototooandohauntemimsogladtobeathomeagainalicewasb'],\n",
       "      dtype='<U136')"
      ]
     },
     "execution_count": 35,
     "metadata": {},
     "output_type": "execute_result"
    }
   ],
   "source": [
    "def splitAndClean(filePath, splitLength):    \n",
    "    with open(filePath, 'r') as f:          # filePath = 'alice_oz.txt'\n",
    "        textData = np.array([f.read().replace(' ', '')])\n",
    "    textData.shape\n",
    "    postionStart = 0\n",
    "    postionEnd = splitLength                     # splitLength = 136\n",
    "    finalData = []\n",
    "    while(postionEnd<=len(textData[0])):\n",
    "        finalData.append(textData[0][postionStart:postionEnd])\n",
    "        #print(textData[0][postionStart:postionEnd])\n",
    "        postionStart = postionEnd\n",
    "        postionEnd = postionEnd + splitLength\n",
    "    #print(len(finalData))\n",
    "    retArray = np.array(finalData)\n",
    "    return retArray\n",
    "\n",
    "splitAndClean('alice_oz.txt',136)"
   ]
  },
  {
   "cell_type": "code",
   "execution_count": 34,
   "metadata": {},
   "outputs": [
    {
     "data": {
      "text/plain": [
       "(1906,)"
      ]
     },
     "execution_count": 34,
     "metadata": {},
     "output_type": "execute_result"
    }
   ],
   "source": [
    "retArray.shape"
   ]
  },
  {
   "cell_type": "code",
   "execution_count": null,
   "metadata": {},
   "outputs": [],
   "source": []
  }
 ],
 "metadata": {
  "kernelspec": {
   "display_name": "Python 3",
   "language": "python",
   "name": "python3"
  },
  "language_info": {
   "codemirror_mode": {
    "name": "ipython",
    "version": 3
   },
   "file_extension": ".py",
   "mimetype": "text/x-python",
   "name": "python",
   "nbconvert_exporter": "python",
   "pygments_lexer": "ipython3",
   "version": "3.6.4"
  }
 },
 "nbformat": 4,
 "nbformat_minor": 2
}
